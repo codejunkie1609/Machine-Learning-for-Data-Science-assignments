{
 "cells": [
  {
   "cell_type": "markdown",
   "id": "4997f589-2a6a-42a1-9c60-d78f99da4559",
   "metadata": {},
   "source": [
    "Name: Sricharan Koride\n",
    "ID: 2343517466\n",
    "Github id: sricharan-koride"
   ]
  },
  {
   "cell_type": "code",
   "execution_count": 64,
   "id": "37647341-5abd-4e1e-affa-0a497ec8e9e4",
   "metadata": {},
   "outputs": [],
   "source": [
    "import pandas as pd\n",
    "from sklearn.model_selection import train_test_split, GridSearchCV\n",
    "from sklearn.metrics import hamming_loss, accuracy_score, precision_recall_fscore_support, silhouette_score\n",
    "from sklearn.multioutput import MultiOutputClassifier\n",
    "from sklearn.multiclass import OneVsRestClassifier\n",
    "import numpy as np\n",
    "from sklearn.svm import SVC,LinearSVC\n",
    "from skmultilearn.problem_transform import BinaryRelevance\n",
    "from sklearn.preprocessing import LabelEncoder, StandardScaler\n",
    "import warnings\n",
    "from sklearn.exceptions import ConvergenceWarning\n",
    "warnings.filterwarnings('ignore')\n",
    "warnings.filterwarnings('ignore', category=ConvergenceWarning)\n",
    "from imblearn.over_sampling import SMOTE\n",
    "from imblearn.pipeline import Pipeline\n",
    "from sklearn.cluster import KMeans \n",
    "import matplotlib.pyplot as plt\n",
    "from collections import Counter\n",
    "import scipy.cluster.hierarchy as sch\n",
    "from scipy.cluster.hierarchy import fcluster\n",
    "from scipy.spatial.distance import squareform"
   ]
  },
  {
   "cell_type": "markdown",
   "id": "e0d2a453-ca32-4407-aab2-988333b50fe4",
   "metadata": {},
   "source": [
    "# 1(b)(i) Research exact match and hamming score/ loss methods for evaluating multi-label classification and use them in evaluating the classifiers in this problem"
   ]
  },
  {
   "cell_type": "markdown",
   "id": "57dd9470-97ba-44fc-8d3b-fb8f4e193c57",
   "metadata": {},
   "source": [
    "We can use measures like exact match and hamming score but also precision, recall, accuracy and other scores to deal with this problem "
   ]
  },
  {
   "cell_type": "code",
   "execution_count": 12,
   "id": "dde6638a-177b-491a-901a-e84b7790512b",
   "metadata": {},
   "outputs": [],
   "source": [
    "df = pd.read_csv('../data/Frogs_MFCCs.csv')\n",
    "X = df.drop(columns=['Family', 'Genus', 'Species'])\n",
    "\n",
    "\n",
    "label_encoder_family = LabelEncoder()\n",
    "label_encoder_genus = LabelEncoder()\n",
    "label_encoder_species = LabelEncoder()\n",
    "\n",
    "y = df[['Family', 'Genus', 'Species']]\n",
    "y['Family'] = label_encoder_family.fit_transform(y['Family'])\n",
    "y['Genus'] = label_encoder_genus.fit_transform(y['Genus'])\n",
    "y['Species'] = label_encoder_species.fit_transform(y['Species'])\n",
    "\n",
    "X_train, X_test, y_train, y_test = train_test_split(X, y, test_size=0.3, random_state=42)"
   ]
  },
  {
   "cell_type": "markdown",
   "id": "6e7a322d-353e-430f-b20e-da9b464f3063",
   "metadata": {},
   "source": [
    "# 1(b)(ii) Train a SVM for each of the labels, using Gaussian kernels and one versus all classifiers. Determine the weight of the SVM penalty and the width of the Gaussian Kernel using 10 fold cross validation. You are welcome to try to solve the problem with both standardized and raw attributes and report the results."
   ]
  },
  {
   "cell_type": "code",
   "execution_count": 14,
   "id": "132c06ba-2a60-4930-a044-e3136771aaf9",
   "metadata": {},
   "outputs": [
    {
     "name": "stdout",
     "output_type": "stream",
     "text": [
      "Fitting 10 folds for each of 200 candidates, totalling 2000 fits\n",
      "Fitting 10 folds for each of 200 candidates, totalling 2000 fits\n",
      "Fitting 10 folds for each of 200 candidates, totalling 2000 fits\n"
     ]
    }
   ],
   "source": [
    "log_C_values = np.logspace(-1, 5, num=10)\n",
    "param_grid = {\n",
    "    'C': log_C_values,\n",
    "    'gamma': [0.1 * i for i in range(1, 21)]  \n",
    "}\n",
    "\n",
    "svm_family = SVC(kernel='rbf', decision_function_shape='ovr')\n",
    "\n",
    "grid_search_family = GridSearchCV(svm_family, param_grid, cv=10, n_jobs=-1, verbose=1)\n",
    "grid_search_family.fit(X_train, y_train['Family'])  # Train for Family\n",
    "\n",
    "best_model_family = grid_search_family.best_estimator_\n",
    "y_pred_family = best_model_family.predict(X_test)\n",
    "accuracy_family = accuracy_score(y_test['Family'].values, y_pred_family)\n",
    "hamming_loss_family = hamming_loss(y_test['Family'].values, y_pred_family)\n",
    "precision_family, recall_family, f1_family, _ = precision_recall_fscore_support(y_test['Family'].values, y_pred_family, average='macro')\n",
    "\n",
    "\n",
    "svm_genus = SVC(kernel='rbf', decision_function_shape='ovr')\n",
    "\n",
    "grid_search_genus = GridSearchCV(svm_genus, param_grid, cv=10, n_jobs=-1, verbose=1)\n",
    "grid_search_genus.fit(X_train, y_train['Genus'])  # Train for Genus\n",
    "\n",
    "best_model_genus = grid_search_genus.best_estimator_\n",
    "y_pred_genus = best_model_genus.predict(X_test)\n",
    "accuracy_genus = accuracy_score(y_test['Genus'].values, y_pred_genus)\n",
    "hamming_loss_genus = hamming_loss(y_test['Genus'].values, y_pred_genus)\n",
    "precision_genus, recall_genus, f1_genus, _ = precision_recall_fscore_support(y_test['Genus'].values, y_pred_genus, average='macro')\n",
    "\n",
    "\n",
    "svm_species = SVC(kernel='rbf', decision_function_shape='ovr')\n",
    "\n",
    "grid_search_species = GridSearchCV(svm_species, param_grid, cv=10, n_jobs=-1, verbose=1)\n",
    "grid_search_species.fit(X_train, y_train['Species'])  # Train for Species\n",
    "\n",
    "best_model_species = grid_search_species.best_estimator_\n",
    "y_pred_species = best_model_species.predict(X_test)\n",
    "accuracy_species = accuracy_score(y_test['Species'].values, y_pred_species)\n",
    "hamming_loss_species = hamming_loss(y_test['Species'].values, y_pred_species)\n",
    "precision_species, recall_species, f1_species, _ = precision_recall_fscore_support(y_test['Species'].values, y_pred_species, average='macro')\n",
    "\n",
    "\n",
    "results_list = []\n",
    "\n",
    "results_list.append({\n",
    "    \"Label\": \"Family\",\n",
    "    \"Best Parameters\": grid_search_family.best_params_,\n",
    "    \"Accuracy\": accuracy_family,\n",
    "    \"Hamming Loss\": hamming_loss_family,\n",
    "    \"Precision\": precision_family,\n",
    "    \"Recall\": recall_family,\n",
    "    \"F1-Score\": f1_family\n",
    "})\n",
    "\n"
   ]
  },
  {
   "cell_type": "code",
   "execution_count": 16,
   "id": "c940bfe7-4269-4588-a1c4-83ce43cc2d40",
   "metadata": {},
   "outputs": [
    {
     "name": "stdout",
     "output_type": "stream",
     "text": [
      "    Label                           Best Parameters  Accuracy  Hamming Loss  \\\n",
      "0  Family  {'C': 0.46415888336127786, 'gamma': 0.1}  0.999074      0.000926   \n",
      "1   Genus  {'C': 0.46415888336127786, 'gamma': 0.2}  0.999537      0.000463   \n",
      "2  Family  {'C': 0.46415888336127786, 'gamma': 0.2}  0.999537      0.000463   \n",
      "\n",
      "   Precision    Recall  F1-Score  \n",
      "0   0.999200  0.981481  0.989984  \n",
      "1   0.996711  0.995370  0.995975  \n",
      "2   0.996711  0.995370  0.995975  \n"
     ]
    }
   ],
   "source": [
    "results_list = []\n",
    "\n",
    "results_list.append({\n",
    "    \"Label\": \"Family\",\n",
    "    \"Best Parameters\": grid_search_family.best_params_,\n",
    "    \"Accuracy\": accuracy_family,\n",
    "    \"Hamming Loss\": hamming_loss_family,\n",
    "    \"Precision\": precision_family,\n",
    "    \"Recall\": recall_family,\n",
    "    \"F1-Score\": f1_family\n",
    "})\n",
    "\n",
    "results_list.append({\n",
    "    \"Label\": \"Genus\",\n",
    "    \"Best Parameters\": grid_search_genus.best_params_,\n",
    "    \"Accuracy\": accuracy_genus,\n",
    "    \"Hamming Loss\": hamming_loss_genus,\n",
    "    \"Precision\": precision_genus,\n",
    "    \"Recall\": recall_genus,\n",
    "    \"F1-Score\": f1_genus\n",
    "})\n",
    "\n",
    "results_list.append({\n",
    "    \"Label\": \"Family\",\n",
    "    \"Best Parameters\": grid_search_genus.best_params_,\n",
    "    \"Accuracy\": accuracy_genus,\n",
    "    \"Hamming Loss\": hamming_loss_genus,\n",
    "    \"Precision\": precision_genus,\n",
    "    \"Recall\": recall_genus,\n",
    "    \"F1-Score\": f1_genus\n",
    "})\n",
    "results_df = pd.DataFrame(results_list)\n",
    "\n",
    "\n",
    "print(results_df)"
   ]
  },
  {
   "cell_type": "markdown",
   "id": "00eb91c8-79d9-4544-8265-350ca955bd8f",
   "metadata": {},
   "source": [
    "# 1(b)(iii) Repeat 1(b)ii with L1-penalized SVMs. Remember to standardize the attributes. Determine the weight of the SVM penalty using 10 fold cross validation"
   ]
  },
  {
   "cell_type": "code",
   "execution_count": 18,
   "id": "4c42995c-ea89-4bb1-b014-2f81bb7b89d4",
   "metadata": {},
   "outputs": [
    {
     "name": "stdout",
     "output_type": "stream",
     "text": [
      "Fitting 10 folds for each of 10 candidates, totalling 100 fits\n",
      "Fitting 10 folds for each of 10 candidates, totalling 100 fits\n",
      "Fitting 10 folds for each of 10 candidates, totalling 100 fits\n",
      "     Label                                    Best Parameters  Accuracy  \\\n",
      "0   Family        {'C': 10.0, 'dual': False, 'penalty': 'l1'}  0.957851   \n",
      "1    Genus        {'C': 10.0, 'dual': False, 'penalty': 'l1'}  0.982862   \n",
      "2  Species  {'C': 2.154434690031882, 'dual': False, 'penal...  0.984252   \n",
      "\n",
      "   Hamming Loss  Precision    Recall  F1-Score  \n",
      "0      0.042149   0.830302  0.747796  0.757973  \n",
      "1      0.017138   0.966795  0.942014  0.953803  \n",
      "2      0.015748   0.975249  0.951931  0.962705  \n"
     ]
    }
   ],
   "source": [
    "param_grid = {\n",
    "    'C': np.logspace(-5, 1, 10),  \n",
    "    'penalty': ['l1'],                \n",
    "    'dual': [False]                   \n",
    "}\n",
    "\n",
    "def train_and_evaluate_svm(X_train, y_train, X_test, y_test, label):\n",
    "    scaler = StandardScaler()\n",
    "    X_train_scaled = scaler.fit_transform(X_train)\n",
    "    X_test_scaled = scaler.transform(X_test)\n",
    "    \n",
    "    linear_svc = LinearSVC(max_iter=100000)  \n",
    "\n",
    "    grid_search = GridSearchCV(linear_svc, param_grid, cv=10, n_jobs=-1, verbose=1)\n",
    "    grid_search.fit(X_train_scaled, y_train)\n",
    "\n",
    "\n",
    "    best_model = grid_search.best_estimator_\n",
    "\n",
    "    y_pred = best_model.predict(X_test_scaled)\n",
    "\n",
    "    accuracy = accuracy_score(y_test, y_pred)\n",
    "    hamming = hamming_loss(y_test, y_pred)\n",
    "    precision, recall, f1, _ = precision_recall_fscore_support(y_test, y_pred, average='macro')\n",
    "\n",
    "    return {\n",
    "        \"Label\": label,\n",
    "        \"Best Parameters\": grid_search.best_params_,\n",
    "        \"Accuracy\": accuracy,\n",
    "        \"Hamming Loss\": hamming,\n",
    "        \"Precision\": precision,\n",
    "        \"Recall\": recall,\n",
    "        \"F1-Score\": f1\n",
    "    }\n",
    "\n",
    "labels = ['Family', 'Genus', 'Species']\n",
    "results_list = []\n",
    "\n",
    "for label in labels:\n",
    "    result = train_and_evaluate_svm(X_train, y_train[label], X_test, y_test[label], label)\n",
    "    results_list.append(result)\n",
    "\n",
    "results_df = pd.DataFrame(results_list)\n",
    "\n",
    "print(results_df)"
   ]
  },
  {
   "cell_type": "markdown",
   "id": "a9861c72-1dbd-40b8-8419-4b0162d0ff5b",
   "metadata": {},
   "source": [
    "# 1(b)(iv) Repeat 1(b)iii by using SMOTE or any other method you know to remedy class imbalance. Report your conclusions about the classifiers you trained"
   ]
  },
  {
   "cell_type": "code",
   "execution_count": 240,
   "id": "336982f5-0681-4fe5-b724-b5b7e2d8301e",
   "metadata": {},
   "outputs": [
    {
     "name": "stdout",
     "output_type": "stream",
     "text": [
      "Fitting 5 folds for each of 10 candidates, totalling 50 fits\n"
     ]
    },
    {
     "name": "stderr",
     "output_type": "stream",
     "text": [
      "/opt/anaconda3/lib/python3.12/site-packages/sklearn/svm/_base.py:1235: ConvergenceWarning: Liblinear failed to converge, increase the number of iterations.\n",
      "  warnings.warn(\n",
      "/opt/anaconda3/lib/python3.12/site-packages/sklearn/svm/_base.py:1235: ConvergenceWarning: Liblinear failed to converge, increase the number of iterations.\n",
      "  warnings.warn(\n",
      "/opt/anaconda3/lib/python3.12/site-packages/sklearn/svm/_base.py:1235: ConvergenceWarning: Liblinear failed to converge, increase the number of iterations.\n",
      "  warnings.warn(\n",
      "/opt/anaconda3/lib/python3.12/site-packages/sklearn/svm/_base.py:1235: ConvergenceWarning: Liblinear failed to converge, increase the number of iterations.\n",
      "  warnings.warn(\n"
     ]
    },
    {
     "name": "stdout",
     "output_type": "stream",
     "text": [
      "Fitting 5 folds for each of 10 candidates, totalling 50 fits\n"
     ]
    },
    {
     "name": "stderr",
     "output_type": "stream",
     "text": [
      "/opt/anaconda3/lib/python3.12/site-packages/sklearn/svm/_base.py:1235: ConvergenceWarning: Liblinear failed to converge, increase the number of iterations.\n",
      "  warnings.warn(\n",
      "/opt/anaconda3/lib/python3.12/site-packages/sklearn/svm/_base.py:1235: ConvergenceWarning: Liblinear failed to converge, increase the number of iterations.\n",
      "  warnings.warn(\n",
      "/opt/anaconda3/lib/python3.12/site-packages/sklearn/svm/_base.py:1235: ConvergenceWarning: Liblinear failed to converge, increase the number of iterations.\n",
      "  warnings.warn(\n",
      "/opt/anaconda3/lib/python3.12/site-packages/sklearn/svm/_base.py:1235: ConvergenceWarning: Liblinear failed to converge, increase the number of iterations.\n",
      "  warnings.warn(\n",
      "/opt/anaconda3/lib/python3.12/site-packages/sklearn/svm/_base.py:1235: ConvergenceWarning: Liblinear failed to converge, increase the number of iterations.\n",
      "  warnings.warn(\n",
      "/opt/anaconda3/lib/python3.12/site-packages/sklearn/svm/_base.py:1235: ConvergenceWarning: Liblinear failed to converge, increase the number of iterations.\n",
      "  warnings.warn(\n",
      "/opt/anaconda3/lib/python3.12/site-packages/sklearn/svm/_base.py:1235: ConvergenceWarning: Liblinear failed to converge, increase the number of iterations.\n",
      "  warnings.warn(\n",
      "/opt/anaconda3/lib/python3.12/site-packages/sklearn/svm/_base.py:1235: ConvergenceWarning: Liblinear failed to converge, increase the number of iterations.\n",
      "  warnings.warn(\n",
      "/opt/anaconda3/lib/python3.12/site-packages/sklearn/svm/_base.py:1235: ConvergenceWarning: Liblinear failed to converge, increase the number of iterations.\n",
      "  warnings.warn(\n",
      "/opt/anaconda3/lib/python3.12/site-packages/sklearn/svm/_base.py:1235: ConvergenceWarning: Liblinear failed to converge, increase the number of iterations.\n",
      "  warnings.warn(\n",
      "/opt/anaconda3/lib/python3.12/site-packages/sklearn/svm/_base.py:1235: ConvergenceWarning: Liblinear failed to converge, increase the number of iterations.\n",
      "  warnings.warn(\n",
      "/opt/anaconda3/lib/python3.12/site-packages/sklearn/svm/_base.py:1235: ConvergenceWarning: Liblinear failed to converge, increase the number of iterations.\n",
      "  warnings.warn(\n",
      "/opt/anaconda3/lib/python3.12/site-packages/sklearn/svm/_base.py:1235: ConvergenceWarning: Liblinear failed to converge, increase the number of iterations.\n",
      "  warnings.warn(\n",
      "/opt/anaconda3/lib/python3.12/site-packages/sklearn/svm/_base.py:1235: ConvergenceWarning: Liblinear failed to converge, increase the number of iterations.\n",
      "  warnings.warn(\n",
      "/opt/anaconda3/lib/python3.12/site-packages/sklearn/svm/_base.py:1235: ConvergenceWarning: Liblinear failed to converge, increase the number of iterations.\n",
      "  warnings.warn(\n"
     ]
    },
    {
     "name": "stdout",
     "output_type": "stream",
     "text": [
      "Fitting 5 folds for each of 10 candidates, totalling 50 fits\n"
     ]
    },
    {
     "name": "stderr",
     "output_type": "stream",
     "text": [
      "/opt/anaconda3/lib/python3.12/site-packages/sklearn/svm/_base.py:1235: ConvergenceWarning: Liblinear failed to converge, increase the number of iterations.\n",
      "  warnings.warn(\n",
      "/opt/anaconda3/lib/python3.12/site-packages/sklearn/svm/_base.py:1235: ConvergenceWarning: Liblinear failed to converge, increase the number of iterations.\n",
      "  warnings.warn(\n",
      "/opt/anaconda3/lib/python3.12/site-packages/sklearn/svm/_base.py:1235: ConvergenceWarning: Liblinear failed to converge, increase the number of iterations.\n",
      "  warnings.warn(\n",
      "/opt/anaconda3/lib/python3.12/site-packages/sklearn/svm/_base.py:1235: ConvergenceWarning: Liblinear failed to converge, increase the number of iterations.\n",
      "  warnings.warn(\n",
      "/opt/anaconda3/lib/python3.12/site-packages/sklearn/svm/_base.py:1235: ConvergenceWarning: Liblinear failed to converge, increase the number of iterations.\n",
      "  warnings.warn(\n",
      "/opt/anaconda3/lib/python3.12/site-packages/sklearn/svm/_base.py:1235: ConvergenceWarning: Liblinear failed to converge, increase the number of iterations.\n",
      "  warnings.warn(\n",
      "/opt/anaconda3/lib/python3.12/site-packages/sklearn/svm/_base.py:1235: ConvergenceWarning: Liblinear failed to converge, increase the number of iterations.\n",
      "  warnings.warn(\n",
      "/opt/anaconda3/lib/python3.12/site-packages/sklearn/svm/_base.py:1235: ConvergenceWarning: Liblinear failed to converge, increase the number of iterations.\n",
      "  warnings.warn(\n",
      "/opt/anaconda3/lib/python3.12/site-packages/sklearn/svm/_base.py:1235: ConvergenceWarning: Liblinear failed to converge, increase the number of iterations.\n",
      "  warnings.warn(\n",
      "/opt/anaconda3/lib/python3.12/site-packages/sklearn/svm/_base.py:1235: ConvergenceWarning: Liblinear failed to converge, increase the number of iterations.\n",
      "  warnings.warn(\n",
      "/opt/anaconda3/lib/python3.12/site-packages/sklearn/svm/_base.py:1235: ConvergenceWarning: Liblinear failed to converge, increase the number of iterations.\n",
      "  warnings.warn(\n",
      "/opt/anaconda3/lib/python3.12/site-packages/sklearn/svm/_base.py:1235: ConvergenceWarning: Liblinear failed to converge, increase the number of iterations.\n",
      "  warnings.warn(\n",
      "/opt/anaconda3/lib/python3.12/site-packages/sklearn/svm/_base.py:1235: ConvergenceWarning: Liblinear failed to converge, increase the number of iterations.\n",
      "  warnings.warn(\n",
      "/opt/anaconda3/lib/python3.12/site-packages/sklearn/svm/_base.py:1235: ConvergenceWarning: Liblinear failed to converge, increase the number of iterations.\n",
      "  warnings.warn(\n",
      "/opt/anaconda3/lib/python3.12/site-packages/sklearn/svm/_base.py:1235: ConvergenceWarning: Liblinear failed to converge, increase the number of iterations.\n",
      "  warnings.warn(\n",
      "/opt/anaconda3/lib/python3.12/site-packages/sklearn/svm/_base.py:1235: ConvergenceWarning: Liblinear failed to converge, increase the number of iterations.\n",
      "  warnings.warn(\n"
     ]
    },
    {
     "name": "stdout",
     "output_type": "stream",
     "text": [
      "     Label                                    Best Parameters  Accuracy  \\\n",
      "0   Family  {'C': 10.0, 'dual': False, 'max_iter': 10000, ...  0.946735   \n",
      "1    Genus  {'C': 10.0, 'dual': False, 'max_iter': 10000, ...  0.974988   \n",
      "2  Species  {'C': 10.0, 'dual': False, 'max_iter': 10000, ...  0.984715   \n",
      "\n",
      "   Hamming Loss  Precision    Recall  F1-Score  \n",
      "0      0.053265   0.858416  0.944662  0.895874  \n",
      "1      0.025012   0.917835  0.959240  0.937155  \n",
      "2      0.015285   0.957720  0.967073  0.962043  \n"
     ]
    }
   ],
   "source": [
    "def train_and_evaluate_svm(X_train, y_train, X_test, y_test, label):\n",
    "\n",
    "    smote = SMOTE(random_state=42)\n",
    "    X_train_resampled, y_train_resampled = smote.fit_resample(X_train, y_train)\n",
    "\n",
    "\n",
    "    param_grid = {\n",
    "        'C': np.logspace(-5, 1, 10),  \n",
    "        'penalty': ['l1'],  \n",
    "        'dual': [False], \n",
    "        'max_iter': [10000] \n",
    "    }\n",
    "\n",
    "  \n",
    "    svm = LinearSVC(penalty='l1', dual=False, max_iter=100000)\n",
    "\n",
    "    \n",
    "    grid_search = GridSearchCV(svm, param_grid, cv=5, n_jobs=-1, verbose=1,)\n",
    "    grid_search.fit(X_train_resampled, y_train_resampled)\n",
    "\n",
    "   \n",
    "    best_model = grid_search.best_estimator_\n",
    "\n",
    "    y_pred = best_model.predict(X_test)\n",
    "\n",
    "   \n",
    "    accuracy = accuracy_score(y_test, y_pred)\n",
    "    hamming = hamming_loss(y_test, y_pred)\n",
    "    precision, recall, f1, _ = precision_recall_fscore_support(y_test, y_pred, average='macro')\n",
    "\n",
    "   \n",
    "    return {\n",
    "        \"Label\": label,\n",
    "        \"Best Parameters\": grid_search.best_params_,\n",
    "        \"Accuracy\": accuracy,\n",
    "        \"Hamming Loss\": hamming,\n",
    "        \"Precision\": precision,\n",
    "        \"Recall\": recall,\n",
    "        \"F1-Score\": f1\n",
    "    }\n",
    "\n",
    "\n",
    "labels = ['Family', 'Genus', 'Species']\n",
    "results_list = []\n",
    "\n",
    "\n",
    "for label in labels:\n",
    "    result = train_and_evaluate_svm(X_train, y_train[label], X_test, y_test[label], label)\n",
    "    results_list.append(result)\n",
    "\n",
    "\n",
    "results_df = pd.DataFrame(results_list)\n",
    "\n",
    "\n",
    "print(results_df)"
   ]
  },
  {
   "cell_type": "markdown",
   "id": "3428f9cf-eb13-4e1d-9b54-58fe16d41199",
   "metadata": {},
   "source": [
    "# 2(a) Use k-means clustering on the whole Anuran Calls (MFCCs) Data Set (do not split the data into train and test, as we are not performing supervised learning in this exercise). Choose k ∈ { 1 , 2 , . . . , 50 } automatically based on one of the methods provided in the slides (CH or Gap Statistics or scree plots or Silhouettes) or any other method you know"
   ]
  },
  {
   "cell_type": "code",
   "execution_count": 27,
   "id": "076806a4-ae28-40f3-86b7-878d19377332",
   "metadata": {},
   "outputs": [
    {
     "data": {
      "image/png": "[encoded data removed]",
      "text/plain": [
       "<Figure size 640x480 with 1 Axes>"
      ]
     },
     "metadata": {},
     "output_type": "display_data"
    },
    {
     "name": "stdout",
     "output_type": "stream",
     "text": [
      "Optimal number of clusters (k) based on silhouette score: 2\n",
      "Cluster centers: \n",
      "[[ 9.97200554e-01  2.95494766e-01  2.09495078e-01  4.95369292e-01\n",
      "   1.73001584e-01  5.18726254e-02 -4.25632354e-02  2.53126614e-02\n",
      "   1.63501606e-01  6.03207375e-02 -1.63565500e-01  3.02947083e-02\n",
      "   2.01559405e-01 -4.09614317e-02 -1.50908484e-01  4.77642627e-02\n",
      "   1.28554588e-01  1.02848164e-02 -7.89046948e-02 -9.06779232e-02\n",
      "   5.41161221e-02  1.42160137e-01  1.70256198e+01]\n",
      " [ 9.74848677e-01  3.81312356e-01  5.20298093e-01  3.44527384e-01\n",
      "   3.25987723e-02  1.92614669e-01  8.32085271e-02 -5.31533930e-02\n",
      "   5.56889146e-02  4.71137997e-02 -1.72729184e-02  7.02461872e-02\n",
      "   4.69214225e-02 -3.57131528e-02 -7.12374854e-04  3.03422830e-02\n",
      "   6.73061357e-03  2.55634912e-03  1.10123351e-02  2.36901090e-02\n",
      "   2.78061280e-03 -2.46313983e-02  4.20611465e+01]]\n",
      "   MFCCs_ 1  MFCCs_ 2  MFCCs_ 3  MFCCs_ 4  MFCCs_ 5  MFCCs_ 6  MFCCs_ 7  \\\n",
      "0       1.0  0.152936 -0.105586  0.200722  0.317201  0.260764  0.100945   \n",
      "1       1.0  0.171534 -0.098975  0.268425  0.338672  0.268353  0.060835   \n",
      "2       1.0  0.152317 -0.082973  0.287128  0.276014  0.189867  0.008714   \n",
      "3       1.0  0.224392  0.118985  0.329432  0.372088  0.361005  0.015501   \n",
      "4       1.0  0.087817 -0.068345  0.306967  0.330923  0.249144  0.006884   \n",
      "\n",
      "   MFCCs_ 8  MFCCs_ 9  MFCCs_10  ...  MFCCs_18  MFCCs_19  MFCCs_20  MFCCs_21  \\\n",
      "0 -0.150063 -0.171128  0.124676  ... -0.077623 -0.009568  0.057684  0.118680   \n",
      "1 -0.222475 -0.207693  0.170883  ... -0.056510 -0.035303  0.020140  0.082263   \n",
      "2 -0.242234 -0.219153  0.232538  ... -0.023590 -0.066722 -0.025083  0.099108   \n",
      "3 -0.194347 -0.098181  0.270375  ... -0.177037 -0.130498 -0.054766 -0.018691   \n",
      "4 -0.265423 -0.172700  0.266434  ... -0.053074 -0.088550 -0.031346  0.108610   \n",
      "\n",
      "   MFCCs_22           Family      Genus         Species  RecordID  Cluster  \n",
      "0  0.014038  Leptodactylidae  Adenomera  AdenomeraAndre         1        0  \n",
      "1  0.029056  Leptodactylidae  Adenomera  AdenomeraAndre         1        0  \n",
      "2  0.077162  Leptodactylidae  Adenomera  AdenomeraAndre         1        0  \n",
      "3  0.023954  Leptodactylidae  Adenomera  AdenomeraAndre         1        0  \n",
      "4  0.079244  Leptodactylidae  Adenomera  AdenomeraAndre         1        0  \n",
      "\n",
      "[5 rows x 27 columns]\n"
     ]
    }
   ],
   "source": [
    "silhouette_scores = []\n",
    "\n",
    "for k in range(2, 51):\n",
    "    kmeans = KMeans(n_clusters=k, random_state=42)\n",
    "    kmeans.fit(X)\n",
    "    score = silhouette_score(X, kmeans.labels_)\n",
    "    silhouette_scores.append(score)\n",
    "\n",
    "plt.plot(range(2, 51), silhouette_scores, marker='o')\n",
    "plt.title('Silhouette Scores for Different Values of k')\n",
    "plt.xlabel('Number of Clusters (k)')\n",
    "plt.ylabel('Silhouette Score')\n",
    "plt.show()\n",
    "\n",
    "\n",
    "k = np.argmax(silhouette_scores) + 2  \n",
    "print(f\"Optimal number of clusters (k) based on silhouette score: {k}\")\n",
    "\n",
    "\n",
    "kmeans_optimal = KMeans(n_clusters=k, random_state=42)\n",
    "kmeans_optimal.fit(X)\n",
    "\n",
    "\n",
    "df['Cluster'] = kmeans_optimal.labels_\n",
    "\n",
    "\n",
    "print(\"Cluster centers: \")\n",
    "print(kmeans_optimal.cluster_centers_)\n",
    "\n",
    "print(df.head())"
   ]
  },
  {
   "cell_type": "markdown",
   "id": "1db7a9e4-7b9a-4fe6-83d2-3e6a25caa9a1",
   "metadata": {},
   "source": [
    "# 2(b) In each cluster, determine which family is the majority by reading the true labels. Repeat for genus and species."
   ]
  },
  {
   "cell_type": "code",
   "execution_count": 36,
   "id": "95abc895-7a32-4712-9cd5-186cadcf5cc2",
   "metadata": {},
   "outputs": [
    {
     "name": "stdout",
     "output_type": "stream",
     "text": [
      "   Cluster          Majority Family     Majority Genus  \\\n",
      "0        0  (Leptodactylidae, 4150)  (Adenomera, 4150)   \n",
      "1        1          (Hylidae, 2017)  (Hypsiboas, 1593)   \n",
      "\n",
      "                 Majority Species  \n",
      "0  (AdenomeraHylaedactylus, 3478)  \n",
      "1       (HypsiboasCordobae, 1121)  \n"
     ]
    }
   ],
   "source": [
    "def get_majority_class(cluster_data, label_column):\n",
    "    label_counts = Counter(cluster_data[label_column])\n",
    "    majority_label = label_counts.most_common(1)[0]  \n",
    "    return majority_label\n",
    "\n",
    "\n",
    "majority_labels = {}\n",
    "\n",
    "for cluster_num in df['Cluster'].unique():\n",
    "    cluster_data = df[df['Cluster'] == cluster_num]\n",
    "    majority_family = get_majority_class(cluster_data, 'Family')\n",
    "    majority_genus = get_majority_class(cluster_data, 'Genus')\n",
    "    majority_species = get_majority_class(cluster_data, 'Species')\n",
    "    majority_labels[cluster_num] = {\n",
    "        'Majority Family': majority_family,\n",
    "        'Majority Genus': majority_genus,\n",
    "        'Majority Species': majority_species\n",
    "    }\n",
    "\n",
    "majority_labels_df = pd.DataFrame(majority_labels).T  \n",
    "majority_labels_df = majority_labels_df.reset_index()\n",
    "majority_labels_df.columns = ['Cluster', 'Majority Family', 'Majority Genus', 'Majority Species']\n",
    "\n",
    "print(majority_labels_df)"
   ]
  },
  {
   "cell_type": "markdown",
   "id": "1710fc14-110e-4451-8c0e-aaa27384cf59",
   "metadata": {},
   "source": [
    "# 2(c) Now for each cluster you have a majority label triplet (family, genus, species). Calculate the average Hamming distance, Hamming score, and Hamming loss between the true labels and the labels assigned by clusters."
   ]
  },
  {
   "cell_type": "code",
   "execution_count": 46,
   "id": "a8f6aea4-f4a4-4b9e-8550-c57edfafb0d8",
   "metadata": {},
   "outputs": [
    {
     "name": "stdout",
     "output_type": "stream",
     "text": [
      "   Cluster  Average Hamming Distance  Average Hamming Score  \\\n",
      "0        0                  0.566529               0.811157   \n",
      "1        1                  0.991083               0.669639   \n",
      "\n",
      "   Average Hamming Loss  \n",
      "0              0.188843  \n",
      "1              0.330361  \n"
     ]
    }
   ],
   "source": [
    "\n",
    "hamming_distances = []\n",
    "hamming_scores = []\n",
    "hamming_losses = []\n",
    "\n",
    "for cluster_num in df['Cluster'].unique():\n",
    "    cluster_data = df[df['Cluster'] == cluster_num]\n",
    "        \n",
    "\n",
    "    majority_family = majority_labels_df.loc[majority_labels_df['Cluster'] == cluster_num, 'Majority Family'].values[0][0]\n",
    "    majority_genus = majority_labels_df.loc[majority_labels_df['Cluster'] == cluster_num, 'Majority Genus'].values[0][0]\n",
    "    majority_species = majority_labels_df.loc[majority_labels_df['Cluster'] == cluster_num, 'Majority Species'].values[0][0]\n",
    "        \n",
    "    true_labels = cluster_data[['Family', 'Genus', 'Species']].values\n",
    " \n",
    "    predicted_labels = np.array([[majority_family, majority_genus, majority_species]] * len(cluster_data))\n",
    "\n",
    "    dist = np.sum(true_labels != predicted_labels, axis=1)  \n",
    "    score = 1 - dist / 3 \n",
    "    loss = dist / 3\n",
    "        \n",
    "       \n",
    "    avg_hamming_distance = np.mean(dist)\n",
    "    avg_hamming_score = np.mean(score)\n",
    "    avg_hamming_loss = np.mean(loss)\n",
    "\n",
    "    hamming_distances.append(avg_hamming_distance)\n",
    "    hamming_scores.append(avg_hamming_score)\n",
    "    hamming_losses.append(avg_hamming_loss)\n",
    "hamming_results = pd.DataFrame({\n",
    "    'Cluster': df['Cluster'].unique(),\n",
    "    'Average Hamming Distance': hamming_distances,\n",
    "    'Average Hamming Score': hamming_scores,\n",
    "    'Average Hamming Loss': hamming_losses\n",
    "})\n",
    "\n",
    "print(hamming_results)\n",
    "\n",
    "\n"
   ]
  },
  {
   "cell_type": "markdown",
   "id": "6237e1d8-6cf3-4527-accf-c93c051e4318",
   "metadata": {},
   "source": [
    "# ISLR 12.6.2 (a)"
   ]
  },
  {
   "cell_type": "code",
   "execution_count": 52,
   "id": "fcc960ec-f8c7-47ee-838c-657f359314f2",
   "metadata": {},
   "outputs": [
    {
     "data": {
      "image/png": "[encoded data removed]",
      "text/plain": [
       "<Figure size 1000x600 with 1 Axes>"
      ]
     },
     "metadata": {},
     "output_type": "display_data"
    }
   ],
   "source": [
    "dissimilarity_matrix = np.array([\n",
    "    [0.0, 0.3, 0.4, 0.7],\n",
    "    [0.3, 0.0, 0.5, 0.8],\n",
    "    [0.4, 0.5, 0.0, 0.45],\n",
    "    [0.7, 0.8, 0.45, 0.0]\n",
    "])\n",
    "\n",
    "dissimilarity_compressed = squareform(dissimilarity_matrix)\n",
    "\n",
    "Z_complete = sch.linkage(dissimilarity_compressed, method='complete')\n",
    "\n",
    "plt.figure(figsize=(10, 6))\n",
    "sch.dendrogram(Z_complete, labels=['1', '2', '3', '4'], leaf_rotation=0)\n",
    "plt.title(\"Dendrogram (Complete Linkage)\")\n",
    "plt.xlabel(\"Observations\")\n",
    "plt.ylabel(\"Dissimilarity\")\n",
    "plt.show()"
   ]
  },
  {
   "cell_type": "markdown",
   "id": "4c320aea-8f58-4d5e-a12a-72ed45b97e7b",
   "metadata": {},
   "source": [
    "# 12.6.2 (b) "
   ]
  },
  {
   "cell_type": "code",
   "execution_count": 56,
   "id": "a72f6ec3-24c1-4841-9483-5b25ea6f8206",
   "metadata": {},
   "outputs": [
    {
     "data": {
      "image/png": "[encoded data removed]",
      "text/plain": [
       "<Figure size 1000x600 with 1 Axes>"
      ]
     },
     "metadata": {},
     "output_type": "display_data"
    }
   ],
   "source": [
    "Z_single = sch.linkage(dissimilarity_compressed, method='single')\n",
    "plt.figure(figsize=(10, 6))\n",
    "sch.dendrogram(Z_single, labels=['1', '2', '3', '4'], leaf_rotation=0)\n",
    "plt.title(\"Dendrogram (Single Linkage)\")\n",
    "plt.xlabel(\"Observations\")\n",
    "plt.ylabel(\"Dissimilarity\")\n",
    "plt.show()\n"
   ]
  },
  {
   "cell_type": "markdown",
   "id": "3f3fd810-c2ee-4e01-a008-735e91fc5c4c",
   "metadata": {},
   "source": [
    "# 12.6.2 (c)"
   ]
  },
  {
   "cell_type": "code",
   "execution_count": 58,
   "id": "95728844-096e-49f8-bb80-a90e7f431fb9",
   "metadata": {},
   "outputs": [
    {
     "name": "stdout",
     "output_type": "stream",
     "text": [
      "Clusters formed (Complete Linkage):\n",
      "[1 1 1 1]\n"
     ]
    }
   ],
   "source": [
    "clusters_complete = fcluster(Z_complete, t=1.5, criterion='distance')\n",
    "print(\"Clusters formed (Complete Linkage):\")\n",
    "print(clusters_complete)"
   ]
  },
  {
   "cell_type": "markdown",
   "id": "2939e50a-d5c4-40b3-9a18-c7f38395b305",
   "metadata": {},
   "source": [
    "# 12.6.2 (d)"
   ]
  },
  {
   "cell_type": "code",
   "execution_count": 60,
   "id": "66da0d1d-6900-4fc2-b9bd-bbc7e7846527",
   "metadata": {},
   "outputs": [
    {
     "name": "stdout",
     "output_type": "stream",
     "text": [
      "Clusters formed (Single Linkage):\n",
      "[1 1 1 1]\n"
     ]
    }
   ],
   "source": [
    "clusters_single = fcluster(Z_single, t=1.5, criterion='distance')\n",
    "print(\"Clusters formed (Single Linkage):\")\n",
    "print(clusters_single)"
   ]
  },
  {
   "cell_type": "markdown",
   "id": "db1fa85e-bc13-4d05-9759-60e5c2417f14",
   "metadata": {},
   "source": [
    "# 12.6.2 (e)"
   ]
  },
  {
   "cell_type": "code",
   "execution_count": 62,
   "id": "c382a1b1-a106-402e-8836-857e353535d7",
   "metadata": {},
   "outputs": [
    {
     "data": {
      "image/png": "[encoded data removed]",
      "text/plain": [
       "<Figure size 1000x600 with 1 Axes>"
      ]
     },
     "metadata": {},
     "output_type": "display_data"
    }
   ],
   "source": [
    "Z_swapped = Z_complete.copy()\n",
    "\n",
    "Z_swapped[0, 3] = Z_complete[1, 3]\n",
    "Z_swapped[1, 3] = Z_complete[0, 3]\n",
    "\n",
    "\n",
    "plt.figure(figsize=(10, 6))\n",
    "sch.dendrogram(Z_swapped, labels=['1', '2', '3', '4'], leaf_rotation=0)\n",
    "plt.title(\"Swapped Dendrogram (Complete Linkage)\")\n",
    "plt.xlabel(\"Observations\")\n",
    "plt.ylabel(\"Dissimilarity\")\n",
    "plt.show()"
   ]
  }
 ],
 "metadata": {
  "kernelspec": {
   "display_name": "Python 3 (ipykernel)",
   "language": "python",
   "name": "python3"
  },
  "language_info": {
   "codemirror_mode": {
    "name": "ipython",
    "version": 3
   },
   "file_extension": ".py",
   "mimetype": "text/x-python",
   "name": "python",
   "nbconvert_exporter": "python",
   "pygments_lexer": "ipython3",
   "version": "3.12.4"
  }
 },
 "nbformat": 4,
 "nbformat_minor": 5
}
